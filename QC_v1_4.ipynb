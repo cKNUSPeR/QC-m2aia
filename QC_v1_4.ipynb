{
 "cells": [
  {
   "cell_type": "code",
   "execution_count": 1,
   "metadata": {
    "pycharm": {
     "name": "#%%\n"
    },
    "scrolled": true
   },
   "outputs": [],
   "source": [
    "# namespace and import declaration\n",
    "import m2aia as m2\n",
    "import numpy as np\n",
    "import matplotlib.pyplot as plt\n",
    "import matplotlib.cm as cm\n",
    "import random as rnd\n",
    "import statistics as stat\n",
    "import scipy.stats as SST\n",
    "import scipy.signal as SSI\n",
    "import skimage.measure as skim\n",
    "import pandas as pd\n",
    "import warnings\n",
    "# hide the warnings, nice for FutureWarnings\n",
    "warnings.filterwarnings('ignore')\n",
    "import matplotlib.backends.backend_pdf\n",
    "#from reportlab.lib.pagesizes import letter\n",
    "#from reportlab.pdfgen import canvas\n"
   ]
  },
  {
   "cell_type": "code",
   "execution_count": 2,
   "metadata": {
    "pycharm": {
     "name": "#%%\n"
    },
    "scrolled": true
   },
   "outputs": [],
   "source": [
    "# INTERACTIVE FIELD\n",
    "# load the filename\n",
    "file_name = r\"C:\\Users\\Jannik\\Documents\\Uni\\Master_Biochem\\4_Semester\\mzWonderland\\data\\output.imzML\"\n",
    "\n",
    "\n",
    "# INTERACTIVE FIELD\n",
    "# load the calibrants\n",
    "cal_filepath = \"D:\\\\programs\\\\M2aia\\\\calibrants_9AA.csv\"\n",
    "\n",
    "# INTERACTIVE FIELD\n",
    "pdf_generate = False\n"
   ]
  },
  {
   "cell_type": "code",
   "execution_count": null,
   "outputs": [],
   "source": [],
   "metadata": {
    "collapsed": false,
    "pycharm": {
     "name": "#%%\n"
    }
   }
  },
  {
   "cell_type": "code",
   "execution_count": null,
   "outputs": [],
   "source": [
    "## export seam for jupyter ----------------------------------------------------------\n",
    "if pdf_generate:\n",
    "    # Create a PDF file to save the figures\n",
    "    pdf_file_path = file_name[:-6] + \"_output_QC(1_4).pdf\"\n",
    "    pdf_pages = matplotlib.backends.backend_pdf.PdfPages(pdf_file_path)\n",
    "# execute the parsing \n",
    "I = m2.ImzMLReader(file_name)\n",
    "# I.Load() is implicit in the instancing"
   ],
   "metadata": {
    "collapsed": false,
    "pycharm": {
     "name": "#%%\n"
    }
   }
  },
  {
   "cell_type": "code",
   "execution_count": null,
   "outputs": [],
   "source": [
    "I.GetMetaData()"
   ],
   "metadata": {
    "collapsed": false,
    "pycharm": {
     "name": "#%%\n"
    }
   }
  },
  {
   "cell_type": "code",
   "execution_count": 4,
   "metadata": {
    "pycharm": {
     "name": "#%%\n"
    }
   },
   "outputs": [
    {
     "data": {
      "text/plain": [
       "{'(original imzML value) [IMS:1000042] max count of pixels x': '856',\n",
       " '(original imzML value) [IMS:1000043] max count of pixels y': '253',\n",
       " '(original imzML value) max count of pixels z': '1',\n",
       " '[IMS:1000031] processed': 'true',\n",
       " '[IMS:1000042] max count of pixels x': '16',\n",
       " '[IMS:1000043] max count of pixels y': '2',\n",
       " '[IMS:1000044] max dimension x': '42800',\n",
       " '[IMS:1000045] max dimension y': '12650',\n",
       " '[IMS:1000046] pixel size x': '0.05',\n",
       " '[IMS:1000047] pixel size y': '0.05',\n",
       " '[IMS:1000053] absolute position offset x': '0',\n",
       " '[IMS:1000054] absolute position offset y': '0',\n",
       " '[IMS:1000080] universally unique identifier': '{DCD356A2-A4FF-42B3-A7F6-D613BAFF4A14}',\n",
       " '[IMS:1000091] ibd SHA-1': '472E74B354BE80D5709BBF44F19289159FF13287',\n",
       " '[IMS:1000101] intensityArray.external data': 'true',\n",
       " '[IMS:1000101] mzArray.external data': 'true',\n",
       " '[IMS:1000401] scanSettings1.top down': 'true',\n",
       " '[IMS:1000410] scanSettings1.meandering': 'true',\n",
       " '[IMS:1000480] scanSettings1.horizontal line scan': 'true',\n",
       " '[IMS:1000490] scanSettings1.linescan right left': 'true',\n",
       " '[MS:1000093] scan1.increasing m/z scan': 'true',\n",
       " '[MS:1000128] negative scan': 'true',\n",
       " '[MS:1000128] profile spectrum': 'true',\n",
       " '[MS:1000128] spectrum1.profile spectrum': 'true',\n",
       " '[MS:1000129] spectrum1.negative scan': 'true',\n",
       " '[MS:1000511] spectrum1.ms level': '0',\n",
       " '[MS:1000512] scan1.filter string': 'true',\n",
       " '[MS:1000514] mzArray.m/z array': 'true',\n",
       " '[MS:1000515] intensityArray.intensity array': 'true',\n",
       " '[MS:1000521] intensityArray.32-bit float': 'true',\n",
       " '[MS:1000523] mzArray.64-bit float': 'true',\n",
       " '[MS:1000530] export_from_pyimzml.processingMethod (0).file format conversion': 'Output to imzML',\n",
       " '[MS:1000576] intensityArray.no compression': 'true',\n",
       " '[MS:1000576] mzArray.no compression': 'true',\n",
       " '[MS:1000579] MS1 spectrum': 'true',\n",
       " '[MS:1000579] spectrum1.MS1 spectrum': 'true',\n",
       " '[MS:1000799] pyimzml 0.0001.custom unreleased software tool': 'pyimzml exporter',\n",
       " 'absolute position offset z': '0',\n",
       " 'm2aia.imzml.format_type': 'processed',\n",
       " 'm2aia.imzml.intensityArray.value_type': '32-bit float',\n",
       " 'm2aia.imzml.intensityArray.value_type_in_bytes': '4',\n",
       " 'm2aia.imzml.intensityGroupID': 'intensityArray',\n",
       " 'm2aia.imzml.mzArray.value_type': '64-bit float',\n",
       " 'm2aia.imzml.mzArray.value_type_in_bytes': '8',\n",
       " 'm2aia.imzml.mzGroupID': 'mzArray',\n",
       " 'm2aia.imzml.spectrum_type': 'profile spectrum',\n",
       " 'm2aia.xs.max': '999.688',\n",
       " 'm2aia.xs.min': '50.3159',\n",
       " 'm2aia.xs.n': '1500',\n",
       " 'max count of pixels z': '1',\n",
       " 'number of measurements': '19',\n",
       " 'pixel size z': '0.01'}"
      ]
     },
     "execution_count": 4,
     "metadata": {},
     "output_type": "execute_result"
    }
   ],
   "source": [
    "I.GetMetaData()"
   ]
  },
  {
   "cell_type": "code",
   "execution_count": 4,
   "metadata": {
    "pycharm": {
     "name": "#%%\n"
    }
   },
   "outputs": [],
   "source": [
    "file_format= I.GetSpectrumType()\n",
    "\n",
    "if \"Profile\" in file_format:\n",
    "    flag_profile = True\n",
    "    flag_centroid = False\n",
    "elif \"Centroid\" in file_format:\n",
    "    flag_profile = False\n",
    "    flag_centroid = True\n",
    "else:\n",
    "    raise ValueError(\"The loaded file has an undefined spectrum type.\")\n",
    "    \n",
    "if \"Processed\" in file_format:\n",
    "    flag_processed = True\n",
    "    flag_continuous = False\n",
    "elif \"Continuous\" in file_format:\n",
    "    flag_processed = False\n",
    "    flag_continuous = True\n",
    "else:\n",
    "    raise ValueError(\"The loaded file has an undefined alignment type.\")\n",
    "        "
   ]
  },
  {
   "cell_type": "code",
   "execution_count": 5,
   "metadata": {
    "pycharm": {
     "name": "#%%\n"
    },
    "scrolled": true
   },
   "outputs": [],
   "source": [
    "# general calulations\n",
    "\n",
    "# generate a 2D binary mask from the file\n",
    "pix_pos = np.argwhere(I.GetMaskArray()[0]) # argwher inverts the dimensions, [0] sueezed out 3rd dimension\n",
    "\n",
    "# get the corners of data entry, is useful to set limits of plotting\n",
    "x_min, x_max = pix_pos[np.argmin(pix_pos[:,1])][1], pix_pos[np.argmax(pix_pos[:,1])][1]\n",
    "y_min, y_max = pix_pos[np.argmin(pix_pos[:,0])][0], pix_pos[np.argmax(pix_pos[:,0])][0]\n",
    "\n",
    "# some calculations use a coverage to not overcalculate \n",
    "# for this, set the samplesize here between 0 and 100, high coverage is only useable for small datasets\n",
    "samplesize_perc = 1 # in %\n",
    "\n",
    "batch_size = int(I.GetNumberOfSpectra()*(samplesize_perc/100))\n",
    "randomlist = rnd.sample(range(0, I.GetNumberOfSpectra()), batch_size)\n"
   ]
  },
  {
   "cell_type": "code",
   "execution_count": 5,
   "metadata": {
    "pycharm": {
     "name": "#%%\n"
    },
    "scrolled": true
   },
   "outputs": [],
   "source": [
    "# Visualisation calculations\n",
    "\n",
    "# Connectec objects Analysis, especially useful for TMAs and other physical conglomerates\n",
    "labeled_image, label_nr = skim.label(I.GetMaskArray()[0], return_num=True, connectivity=1)\n",
    "\n",
    "# custom colormaps with white backgrounds (via out-of-lower-bound)\n",
    "my_vir = cm.get_cmap('viridis').copy()\n",
    "my_vir.set_under('white')  # Color for values less than vmin\n",
    "my_rbw = cm.get_cmap('gist_rainbow').copy()\n",
    "my_rbw.set_under('white')  # Color for values less than vmin\n",
    "\n",
    "\n",
    "my_coolwarm = cm.get_cmap('coolwarm').copy()\n",
    "my_coolwarm.set_under('white')  # Color for values less than vmin\n",
    "my_coolwarm.set_over('darkorange')\n",
    "\n",
    "\n",
    "my_cw = cm.get_cmap('coolwarm').copy()\n",
    "my_cw.set_under('purple')  # Color for values less than vmin\n",
    "my_cw.set_over('darkorange')\n",
    "my_cw.set_bad(color= 'white', alpha = 1.0)\n",
    "\n",
    "# make a mask approach to plot any feature based on mapping onto existing image array with a translation apporach\n",
    "# it transfers pixels from 0 ()in binary image input ) to NaN, which allows them to be set to bad\n",
    "def mask_bad_image(key_list, # an iterable of valid pixel indices,\n",
    "               val_list, # an iterable of projected Intensities, matched to key_list\n",
    "               image # An array-like object with the given distribution of key variables\n",
    "               ):\n",
    "    # set up a translational dictionary\n",
    "    trans_dict = dict(zip(key_list, val_list))\n",
    "    # Important zero-index conversion, otherwise rounding gives error\n",
    "    trans_dict[0] = np.nan\n",
    "    \n",
    "    # defines the callable function (juhu, we love functional programming\n",
    "    translate = np.vectorize(\n",
    "        # defines the callable function (juhu, we love more functional programming\n",
    "        lambda ele: trans_dict.get(ele,ele))\n",
    "    return translate(image)\n",
    "\n",
    "\n",
    "# make a mask approach to plot any feature based on mapping onto existing image array with a translation apporach\n",
    "# older version, not yet switched in all features to mask_bad_image\n",
    "def mask_image(key_list, # an iterable of valid pixel indices,\n",
    "               val_list, # an iterable of projected Intensities, matched to key_list\n",
    "               image # An array-like object with the given distribution of key variables\n",
    "               ):\n",
    "    # set up a translational dictionary\n",
    "    trans_dict = dict(zip(key_list, val_list))\n",
    "    # Important zero-index conversion, otherwise rounding gives error\n",
    "    trans_dict[0] = 0.0\n",
    "    \n",
    "    # defines the callable function (juhu, we love functional programming\n",
    "    translate = np.vectorize(\n",
    "        # defines the callable function (juhu, we love more functional programming\n",
    "        lambda ele: trans_dict.get(ele,ele))\n",
    "    return translate(image)\n",
    "\n",
    "def find_nearest(array, value):\n",
    "    array = np.asarray(array)\n",
    "    idx = (np.abs(array - value)).argmin()\n",
    "    return array[idx]\n"
   ]
  },
  {
   "cell_type": "code",
   "execution_count": 8,
   "metadata": {
    "pycharm": {
     "name": "#%%\n"
    }
   },
   "outputs": [],
   "source": [
    "# OUTPUT FIELD\n",
    "if not pdf_generate:\n",
    "    # Retrieve metadata and file properties\n",
    "    print(\"FILE PROPERTIES \\n\")\n",
    "    print(\"Spectral Type: \", I.GetSpectrumType())\n",
    "    #TODO use metadata parser by M2aia"
   ]
  },
  {
   "cell_type": "code",
   "execution_count": null,
   "metadata": {
    "pycharm": {
     "name": "#%%\n"
    }
   },
   "outputs": [],
   "source": []
  },
  {
   "cell_type": "code",
   "execution_count": 11,
   "metadata": {
    "pycharm": {
     "name": "#%%\n"
    },
    "scrolled": true
   },
   "outputs": [],
   "source": [
    "# OUTPUT FIELD\n",
    "if not pdf_generate:\n",
    "    # Retrieve Image-related data\n",
    "    print('IMAGE PROPERTIES \\n')\n",
    "    print('Numeric shape of Image (x, y, z): ', I.GetShape())\n",
    "    print('Number of recorded Pixels: ', I.GetNumberOfSpectra())\n",
    "    print(\"Number of unrecorded Pixels: \", np.abs(np.product(I.GetShape()) - I.GetNumberOfSpectra()))\n",
    "\n",
    "    print(\"Recorded x-range: \", x_min, \" - \", x_max)\n",
    "    print(\"Recorded y-range: \", y_min, \" - \", y_max)\n",
    "\n",
    "    print(\"Nr of connected objects found: \", label_nr)\n"
   ]
  },
  {
   "cell_type": "code",
   "execution_count": null,
   "metadata": {
    "pycharm": {
     "name": "#%%\n"
    }
   },
   "outputs": [],
   "source": []
  },
  {
   "cell_type": "code",
   "execution_count": 6,
   "metadata": {
    "pycharm": {
     "name": "#%%\n"
    },
    "scrolled": true
   },
   "outputs": [
    {
     "data": {
      "image/png": "[encoded data removed]",
      "text/plain": [
       "<Figure size 1000x1000 with 1 Axes>"
      ]
     },
     "metadata": {},
     "output_type": "display_data"
    }
   ],
   "source": [
    "# OUTPUT FIELD\n",
    "# Image with origin    \n",
    "fig = plt.figure(figsize=[10,10])\n",
    "ax = plt.subplot(111)\n",
    "\n",
    "ax.set_xlabel('x axis')\n",
    "ax.set_ylabel('y axis')\n",
    "ax.set_title('Full view of binary image from origin')\n",
    "ax.imshow(I.GetMaskArray()[0],\n",
    "          cmap=my_vir, vmin=0.1,\n",
    "          interpolation='none') # attention, large images tend to get a smoohing under the hood by plt\n",
    "\n",
    "if pdf_generate:\n",
    "    pdf_pages.savefig(fig)\n",
    "    plt.close()\n",
    "else:\n",
    "    plt.show()"
   ]
  },
  {
   "cell_type": "code",
   "execution_count": 13,
   "metadata": {
    "pycharm": {
     "name": "#%%\n"
    },
    "scrolled": true
   },
   "outputs": [],
   "source": [
    "# OUTPUT FIELD\n",
    "# Image of binary mask within image bounds\n",
    "fig = plt.figure(figsize=[7,5])\n",
    "ax = plt.subplot(111)\n",
    "\n",
    "ax.set_xlabel('x axis')\n",
    "ax.set_ylabel('y axis')\n",
    "ax.set_xlim(x_min, x_max)\n",
    "ax.set_ylim(y_min, y_max)\n",
    "ax.set_title('Cropped view of binary image within pixel limits')\n",
    "ax.imshow(I.GetMaskArray()[0], \n",
    "          cmap=my_vir, vmin=0.1,\n",
    "         interpolation='none')\n",
    "\n",
    "if pdf_generate:\n",
    "    pdf_pages.savefig(fig)\n",
    "    plt.close()\n",
    "else:\n",
    "    plt.show()"
   ]
  },
  {
   "cell_type": "code",
   "execution_count": 14,
   "metadata": {
    "pycharm": {
     "name": "#%%\n"
    },
    "scrolled": true
   },
   "outputs": [],
   "source": [
    "# OUTPUT FIELD \n",
    "# Pixel index range\n",
    "\n",
    "fig = plt.figure(figsize=[7,5])\n",
    "ax = plt.subplot(111)\n",
    "\n",
    "ax.set_title('Pixel Index')\n",
    "ax.set_xlabel('x')\n",
    "ax.set_ylabel('y')\n",
    "ax.set_xlim(x_min, x_max)\n",
    "ax.set_ylim(y_min, y_max)\n",
    "im = ax.imshow(I.GetIndexArray()[0], cmap=my_rbw, vmin=0.1,interpolation='none')\n",
    "fig.colorbar(im, extend='min')\n",
    "\n",
    "if pdf_generate:\n",
    "    pdf_pages.savefig(fig)\n",
    "    plt.close()\n",
    "else:\n",
    "    plt.show()"
   ]
  },
  {
   "cell_type": "code",
   "execution_count": 15,
   "metadata": {
    "pycharm": {
     "name": "#%%\n"
    },
    "scrolled": true
   },
   "outputs": [],
   "source": [
    "# OUTPUT FIELD \n",
    "# different connected components\n",
    "\n",
    "fig = plt.figure(figsize=[7,5])\n",
    "ax = plt.subplot(111)\n",
    "\n",
    "ax.set_title('Connected Objects Analysis')\n",
    "ax.set_xlabel('x')\n",
    "ax.set_ylabel('y')\n",
    "ax.set_xlim(x_min, x_max)\n",
    "ax.set_ylim(y_min, y_max)\n",
    "im = ax.imshow(labeled_image, cmap=my_rbw, vmin=0.1,interpolation='none')\n",
    "fig.colorbar(im, extend='min', format=lambda x, _: f\"{int(x)}\")\n",
    "\n",
    "if pdf_generate:\n",
    "    pdf_pages.savefig(fig)\n",
    "    plt.close()\n",
    "else:\n",
    "    plt.show()"
   ]
  },
  {
   "cell_type": "code",
   "execution_count": null,
   "metadata": {
    "pycharm": {
     "name": "#%%\n"
    }
   },
   "outputs": [],
   "source": []
  },
  {
   "cell_type": "code",
   "execution_count": 16,
   "metadata": {
    "pycharm": {
     "name": "#%%\n"
    },
    "scrolled": true
   },
   "outputs": [],
   "source": [
    " \n",
    "# calculation of properties within each pixel, expensive calculation\n",
    "# Pixelwise calculations operation, loops over .SpectrumIterator\n",
    "\n",
    "# TODO change tuples to arrays\n",
    "index_nr = tuple() # container for pixel index, corrected for 0-index\n",
    "peak_nr = tuple() # container for number of features loaded in a single pixel\n",
    "tic_nr = tuple() # container of TIC for each single pixel\n",
    "median_nr = tuple() # Container for the median intnsity in each pixel\n",
    "max_int_nr = tuple() # Container for the min intnsity in each pixel\n",
    "min_int_nr = tuple() # Container for the max intnsity in each pixel\n",
    "max_abun_nr = tuple() # Container for the most abundant mz in each pixel\n",
    "\n",
    "\n",
    "for ind, mass, inten in I.SpectrumIterator(): # loop to run over full imzML dataset\n",
    "    # values for a single pixel are recorded in their specific tuples\n",
    "\n",
    "    index_nr = index_nr + (ind+1,) # pixel order is 0 for not-recorded pixels\n",
    "    peak_nr = peak_nr + (len(inten),)\n",
    "    tic_nr = tic_nr + (sum(inten),)\n",
    "    median_nr += (stat.median(inten),)\n",
    "    max_int_nr += (max(inten),)\n",
    "    min_int_nr += (min(inten),)\n",
    "    max_abun_nr += (mass[np.where(inten==max(inten))[0][0]] ,)\n",
    "    \n",
    "\n"
   ]
  },
  {
   "cell_type": "code",
   "execution_count": null,
   "metadata": {
    "pycharm": {
     "name": "#%%\n"
    },
    "scrolled": true
   },
   "outputs": [],
   "source": []
  },
  {
   "cell_type": "code",
   "execution_count": 17,
   "metadata": {
    "pycharm": {
     "name": "#%%\n"
    },
    "scrolled": true
   },
   "outputs": [],
   "source": [
    "# OUTPUT FIELD\n",
    "if not pdf_generate:\n",
    "    # gives Information on the spectral properties\n",
    "    print('SPECTAL PROPERTIES \\n ')\n",
    "\n",
    "    print('Number of individual mz features: ', np.sum(peak_nr))\n",
    "    print('')\n",
    "    print(\"Mean TIC ± sd: \", int(stat.mean(tic_nr)), \" ± \", int(stat.stdev(tic_nr)))\n",
    "    print(\"Median TIC ± MAD: \", int(stat.median(tic_nr)), \" ± \", int(SST.median_abs_deviation(tic_nr)))\n",
    "    print('')\n",
    "    print(\"Mean number of mz features per spectrum ± sd: \", int(stat.mean(peak_nr)), \" ± \", int(stat.stdev(peak_nr)))\n",
    "    print(\"Median number of mz features per spectrum ± MAD: \",\n",
    "          int(stat.median(peak_nr)), \" ± \", int(SST.median_abs_deviation(peak_nr)))\n",
    "    print('')\n",
    "    print(\"Range of median intensities per pixel: \", min(median_nr), \" - \", max(median_nr))\n",
    "    print('Range of Maximal Intensity per pixel: ', min(max_int_nr), \" - \", max(max_int_nr))\n",
    "    print('Range of minimal Intensity per pixel: ', min(min_int_nr), \" - \", max(min_int_nr))\n",
    "    print('Range of most abundant mz per pixel: ', min(max_abun_nr), \" - \", max(max_abun_nr))\n"
   ]
  },
  {
   "cell_type": "code",
   "execution_count": 18,
   "metadata": {
    "pycharm": {
     "name": "#%%\n"
    }
   },
   "outputs": [],
   "source": [
    "# OUTPUT FIELD\n",
    "# plots of the number of peaks in each pixel\n",
    "\n",
    "fig = plt.figure(figsize=[7,5])\n",
    "ax = plt.subplot(111)\n",
    "\n",
    "ax.set_title('Number of Peaks per spectrum')\n",
    "ax.set_xlabel('Index of Spectrum')\n",
    "ax.set_ylabel('Number of Peaks')\n",
    "\n",
    "\n",
    "ax.grid(visible=True, c='lightgray', ls=\"--\")\n",
    "ax.scatter(index_nr,peak_nr,color='k',marker=\".\", zorder=-1)\n",
    "ax.set_rasterization_zorder(0)\n",
    "#ax.axhline(len(I.GetXAxis()), color='r') # this shows the auto-averaged number of peaks\n",
    "\n",
    "\n",
    "if pdf_generate:\n",
    "    pdf_pages.savefig(fig)\n",
    "    plt.close()\n",
    "else:\n",
    "    plt.show()\n",
    "    \n",
    "# PEak number projection\n",
    "peak_nr_image = mask_image(index_nr,peak_nr,I.GetIndexArray()[0])\n",
    "\n",
    "# plot\n",
    "fig = plt.figure(figsize=[7,5])\n",
    "axs = plt.subplot(111)\n",
    "axs.set_title(f'Number of Peak Projection')\n",
    "axs.set_xlabel('x')\n",
    "axs.set_ylabel('y')\n",
    "axs.set_xlim(x_min, x_max)\n",
    "axs.set_ylim(y_min, y_max)\n",
    "im = axs.imshow(peak_nr_image, cmap=my_vir, vmin=0.1)\n",
    "fig.colorbar(im, ax=axs, extend='min')\n",
    "\n",
    "\n",
    "if pdf_generate:\n",
    "    pdf_pages.savefig(fig)\n",
    "    plt.close()\n",
    "else:\n",
    "    plt.show()"
   ]
  },
  {
   "cell_type": "code",
   "execution_count": 19,
   "metadata": {
    "pycharm": {
     "name": "#%%\n"
    },
    "scrolled": true
   },
   "outputs": [],
   "source": [
    "# OUTPUT FIELD\n",
    "# plots of the TIC in each pixel\n",
    "\n",
    "fig = plt.figure(figsize=[7,5])\n",
    "ax = plt.subplot(111)\n",
    "\n",
    "ax.set_title('TIC per spectrum')\n",
    "ax.set_xlabel('Index of Spectrum')\n",
    "ax.set_ylabel('Intensity')\n",
    "\n",
    "ax.grid(visible=True, c='lightgray', ls=\"--\")\n",
    "ax.scatter(index_nr,tic_nr,color='b',marker=\".\",zorder=-1)\n",
    "ax.set_rasterization_zorder(0)\n",
    "\n",
    "if pdf_generate:\n",
    "    pdf_pages.savefig(fig)\n",
    "    plt.close()\n",
    "else:\n",
    "    plt.show()\n",
    "    \n",
    "    \n",
    "# TIC projection:\n",
    "tic_image = mask_image(index_nr,tic_nr,I.GetIndexArray()[0])\n",
    "#plot\n",
    "fig = plt.figure(figsize=[7,5])\n",
    "ax = plt.subplot(111)\n",
    "ax.set_title(f'TIC Projection')\n",
    "ax.set_xlabel('x')\n",
    "ax.set_ylabel('y')\n",
    "ax.set_xlim(x_min, x_max)\n",
    "ax.set_ylim(y_min, y_max)\n",
    "im = ax.imshow(tic_image, cmap=my_vir, vmin=0.1)\n",
    "fig.colorbar(im, extend='min')\n",
    "\n",
    "if pdf_generate:\n",
    "    pdf_pages.savefig(fig)\n",
    "    plt.close()\n",
    "else:\n",
    "    plt.show()"
   ]
  },
  {
   "cell_type": "code",
   "execution_count": null,
   "metadata": {
    "pycharm": {
     "name": "#%%\n"
    }
   },
   "outputs": [],
   "source": []
  },
  {
   "cell_type": "code",
   "execution_count": 20,
   "metadata": {
    "pycharm": {
     "name": "#%%\n"
    }
   },
   "outputs": [],
   "source": [
    "# OUTPUT FIELD\n",
    "# plots of the median intensity in each pixel\n",
    "\n",
    "fig = plt.figure(figsize=[7,5])\n",
    "ax = plt.subplot(111)\n",
    "\n",
    "ax.set_title('Median Intensity per spectrum')\n",
    "ax.set_xlabel('Index of Spectrum')\n",
    "ax.set_ylabel('Intensity')\n",
    "\n",
    "\n",
    "ax.grid(visible=True, c='lightgray', ls=\"--\")\n",
    "ax.scatter(index_nr, median_nr,color='k',marker=\".\",zorder=-1)\n",
    "ax.set_rasterization_zorder(0)\n",
    "\n",
    "if pdf_generate:\n",
    "    pdf_pages.savefig(fig)\n",
    "    plt.close()\n",
    "else:\n",
    "    plt.show()\n",
    "    \n",
    "# projection:\n",
    "tic_image = mask_image(index_nr,median_nr,I.GetIndexArray()[0])\n",
    "#plot\n",
    "fig = plt.figure(figsize=[7,5])\n",
    "ax = plt.subplot(111)\n",
    "ax.set_title(f'Median Intensity per Spectrum')\n",
    "ax.set_xlabel('x')\n",
    "ax.set_ylabel('y')\n",
    "ax.set_xlim(x_min, x_max)\n",
    "ax.set_ylim(y_min, y_max)\n",
    "im = ax.imshow(tic_image, cmap=my_vir, vmin=0.1)\n",
    "fig.colorbar(im, extend='min')\n",
    "if pdf_generate:\n",
    "    pdf_pages.savefig(fig)\n",
    "    plt.close()\n",
    "else:\n",
    "    plt.show()"
   ]
  },
  {
   "cell_type": "code",
   "execution_count": 21,
   "metadata": {
    "pycharm": {
     "name": "#%%\n"
    },
    "scrolled": true
   },
   "outputs": [],
   "source": [
    "# OUTPUT FIELD\n",
    "# plots of the maximal intensity in each pixel\n",
    "\n",
    "fig = plt.figure(figsize=[7,5])\n",
    "ax = plt.subplot(111)\n",
    "\n",
    "ax.set_title('Maximum Intensity per spectrum')\n",
    "ax.set_xlabel('Index of Spectrum')\n",
    "ax.set_ylabel('Intensity')\n",
    "\n",
    "\n",
    "ax.grid(visible=True, c='lightgray', ls=\"--\")\n",
    "ax.scatter(index_nr, max_int_nr, color='r',marker=\".\",zorder=-1)\n",
    "ax.set_rasterization_zorder(0)\n",
    "if pdf_generate:\n",
    "    pdf_pages.savefig(fig)\n",
    "    plt.close()\n",
    "else:\n",
    "    plt.show()\n",
    "\n",
    "    \n",
    "# projection:\n",
    "max_image = mask_image(index_nr,max_int_nr,I.GetIndexArray()[0])\n",
    "# plot\n",
    "fig = plt.figure(figsize=[7,5])\n",
    "ax = plt.subplot(111)\n",
    "ax.set_title(f'Maximum Intesnsity per Spectrum')\n",
    "ax.set_xlabel('x')\n",
    "ax.set_ylabel('y')\n",
    "ax.set_xlim(x_min, x_max)\n",
    "ax.set_ylim(y_min, y_max)\n",
    "im = ax.imshow(max_image, cmap=my_vir, vmin=0.1)\n",
    "fig.colorbar(im, extend='min')\n",
    "if pdf_generate:\n",
    "    pdf_pages.savefig(fig)\n",
    "    plt.close()\n",
    "else:\n",
    "    plt.show()"
   ]
  },
  {
   "cell_type": "code",
   "execution_count": 22,
   "metadata": {
    "pycharm": {
     "name": "#%%\n"
    },
    "scrolled": true
   },
   "outputs": [],
   "source": [
    "# OUTPUT FIELD\n",
    "# plots of the minimal intensity in each pixel\n",
    "\n",
    "fig = plt.figure(figsize=[7,5])\n",
    "ax = plt.subplot(111)\n",
    "\n",
    "ax.set_title('Minimum Intensity per spectrum')\n",
    "ax.set_xlabel('Index of Spectrum')\n",
    "ax.set_ylabel('Intensity')\n",
    "\n",
    "\n",
    "ax.grid(visible=True, c='lightgray', ls=\"--\")\n",
    "ax.scatter(index_nr, min_int_nr, color='g',marker=\".\",zorder=-1)\n",
    "ax.set_rasterization_zorder(0)\n",
    "\n",
    "if pdf_generate:\n",
    "    pdf_pages.savefig(fig)\n",
    "    plt.close()\n",
    "else:\n",
    "    plt.show()\n",
    "    \n",
    "    \n",
    "# projection:\n",
    "min_image = mask_image(index_nr,min_int_nr,I.GetIndexArray()[0])\n",
    "# plot\n",
    "fig = plt.figure(figsize=[7,5])\n",
    "ax = plt.subplot(111)\n",
    "ax.set_title(f'Minimum Intensity per Spectrum')\n",
    "ax.set_xlabel('x')\n",
    "ax.set_ylabel('y')\n",
    "ax.set_xlim(x_min, x_max)\n",
    "ax.set_ylim(y_min, y_max)\n",
    "im = ax.imshow(min_image, cmap=my_vir, vmin=0.1)\n",
    "fig.colorbar(im, extend='min')\n",
    "if pdf_generate:\n",
    "    pdf_pages.savefig(fig)\n",
    "    plt.close()\n",
    "else:\n",
    "    plt.show()"
   ]
  },
  {
   "cell_type": "code",
   "execution_count": 23,
   "metadata": {
    "pycharm": {
     "name": "#%%\n"
    },
    "scrolled": true
   },
   "outputs": [],
   "source": [
    "# OUTPUT FIELD\n",
    "# plots of the minimal intensity in each pixel\n",
    "\n",
    "fig = plt.figure(figsize=[7,5])\n",
    "ax = plt.subplot(111)\n",
    "\n",
    "ax.set_title('Most abundant mz feature per spectrum')\n",
    "ax.set_xlabel('Index of Spectrum')\n",
    "ax.set_ylabel('mz')\n",
    "\n",
    "ax.grid(visible=True, c='lightgray', ls=\"--\")\n",
    "ax.scatter(index_nr, max_abun_nr, color='k',marker=\".\",zorder=-1)\n",
    "ax.set_rasterization_zorder(0)\n",
    "\n",
    "if pdf_generate:\n",
    "    pdf_pages.savefig(fig)\n",
    "    plt.close()\n",
    "else:\n",
    "    plt.show()\n",
    "    \n",
    "    \n",
    "# projection\n",
    "mab_image = mask_image(index_nr,max_abun_nr,I.GetIndexArray()[0])\n",
    "\n",
    "fig = plt.figure(figsize=[7,5])\n",
    "ax = plt.subplot(111)\n",
    "ax.set_title(f'Most abundant mz feature per Spectrum')\n",
    "ax.set_xlabel('x')\n",
    "ax.set_ylabel('y')\n",
    "ax.set_xlim(x_min, x_max)\n",
    "ax.set_ylim(y_min, y_max)\n",
    "im = ax.imshow(mab_image, cmap=my_vir, vmin=0.1)\n",
    "fig.colorbar(im, extend='min')\n",
    "if pdf_generate:\n",
    "    pdf_pages.savefig(fig)\n",
    "    plt.close()\n",
    "else:\n",
    "    plt.show()"
   ]
  },
  {
   "cell_type": "code",
   "execution_count": 24,
   "metadata": {
    "pycharm": {
     "name": "#%%\n"
    },
    "scrolled": true
   },
   "outputs": [],
   "source": [
    "\n",
    "#linear reshaping of pixel index image and segmented image\n",
    "ind_ar = np.reshape(I.GetIndexArray()[0],-1)\n",
    "lab_ar = np.reshape(labeled_image, -1)\n",
    "\n",
    "# arrayization of pixel index counting and TICperPixel counting\n",
    "ind_nr_ar = np.asarray(index_nr) \n",
    "tic_nr_ar = np.asarray(tic_nr) \n",
    "\n",
    "#collectors for plotable boxplot data\n",
    "tic_coll_boxplot = []\n",
    "name_coll_boxplot = []\n",
    "\n",
    "# loop over all segments\n",
    "for seg in range(1,label_nr+1):\n",
    "    pindex = ind_ar[np.where(lab_ar==seg)]+1 # extracion of pixel indices per segment \n",
    "    tics = tic_nr_ar[np.in1d(ind_nr_ar,pindex)] # extraction of tics from pixel index\n",
    "    tics = np.log10(tics)\n",
    "\n",
    "    tic_coll_boxplot.append(tics)\n",
    "    name_coll_boxplot.append(seg)\n",
    "\n",
    "    "
   ]
  },
  {
   "cell_type": "code",
   "execution_count": 25,
   "metadata": {
    "pycharm": {
     "name": "#%%\n"
    },
    "scrolled": true
   },
   "outputs": [],
   "source": [
    "# OUTPUT IMAGE\n",
    "# Boxplot of  TIC intensity distribution in each segment\n",
    "len_b40 = len(name_coll_boxplot) // 40\n",
    "if (len(name_coll_boxplot) % 40) > 0:\n",
    "    len_b40 = len_b40 + 1\n",
    "\n",
    "# plotting functions based on single-line or multi-line plotting:\n",
    "if len_b40 > 1:    \n",
    "    fig, ax = plt.subplots(len_b40, figsize=(10,len_b40*3))\n",
    "    fig.suptitle('Boxplots of Pixelwise TIC per Segment')\n",
    "    \n",
    "    for j in range(1,len_b40+1): # change to 1-base index\n",
    "        ax[j-1].boxplot(tic_coll_boxplot[(j-1)*40:40*j],\n",
    "                       labels=name_coll_boxplot[(j-1)*40:40*j])\n",
    "        ax[j-1].set_xlabel('Segmented Group')\n",
    "        ax[j-1].set_ylabel('log10 of Pixel TIC')\n",
    "\n",
    "else:\n",
    "    fig = plt.figure(figsize=[10,len_b40*3])\n",
    "    ax = plt.subplot(111)\n",
    "    ax.set_title('Boxplots of Pixelwise TIC per Segment')\n",
    "    \n",
    "    ax.boxplot(tic_coll_boxplot,\n",
    "               labels=name_coll_boxplot)\n",
    "    ax.set_xlabel('Segmented Group')\n",
    "    ax.set_ylabel('log10 of Pixel TIC')\n",
    "     \n",
    "plt.tight_layout()\n",
    "if pdf_generate:\n",
    "    pdf_pages.savefig(fig)\n",
    "    plt.close()\n",
    "else:\n",
    "    plt.show()"
   ]
  },
  {
   "cell_type": "code",
   "execution_count": 26,
   "metadata": {
    "pycharm": {
     "name": "#%%\n"
    }
   },
   "outputs": [
    {
     "data": {
      "text/plain": [
       "14"
      ]
     },
     "execution_count": 26,
     "metadata": {},
     "output_type": "execute_result"
    }
   ],
   "source": [
    "len(randomlist)"
   ]
  },
  {
   "cell_type": "code",
   "execution_count": 27,
   "metadata": {
    "pycharm": {
     "name": "#%%\n"
    },
    "scrolled": true
   },
   "outputs": [
    {
     "name": "stdout",
     "output_type": "stream",
     "text": [
      "14\n",
      "578\n",
      "1205\n",
      "984\n",
      "123\n",
      "755\n",
      "1325\n",
      "181\n",
      "385\n",
      "1260\n",
      "258\n",
      "1281\n",
      "73\n",
      "388\n",
      "(143,)\n",
      "(143,)\n",
      "78.97616\n"
     ]
    },
    {
     "ename": "TypeError",
     "evalue": "'numpy.float32' object is not iterable",
     "output_type": "error",
     "traceback": [
      "\u001B[1;31m---------------------------------------------------------------------------\u001B[0m",
      "\u001B[1;31mTypeError\u001B[0m                                 Traceback (most recent call last)",
      "Cell \u001B[1;32mIn[27], line 24\u001B[0m\n\u001B[0;32m     22\u001B[0m \u001B[38;5;28;01mfor\u001B[39;00m row \u001B[38;5;129;01min\u001B[39;00m processed_collector:\n\u001B[0;32m     23\u001B[0m     \u001B[38;5;28mprint\u001B[39m(row)\n\u001B[1;32m---> 24\u001B[0m     dpoint_mean \u001B[38;5;241m+\u001B[39m\u001B[38;5;241m=\u001B[39m (\u001B[43mstat\u001B[49m\u001B[38;5;241;43m.\u001B[39;49m\u001B[43mmean\u001B[49m\u001B[43m(\u001B[49m\u001B[43mrow\u001B[49m\u001B[43m)\u001B[49m,)\n\u001B[0;32m     25\u001B[0m     dpoint_spread \u001B[38;5;241m+\u001B[39m\u001B[38;5;241m=\u001B[39m (stat\u001B[38;5;241m.\u001B[39mstdev(row),)\n\u001B[0;32m     27\u001B[0m dpoint_mean \u001B[38;5;241m=\u001B[39m np\u001B[38;5;241m.\u001B[39masarray(dpoint_mean)\n",
      "File \u001B[1;32m~\\.conda\\envs\\mzWonderland\\lib\\statistics.py:324\u001B[0m, in \u001B[0;36mmean\u001B[1;34m(data)\u001B[0m\n\u001B[0;32m    308\u001B[0m \u001B[38;5;28;01mdef\u001B[39;00m \u001B[38;5;21mmean\u001B[39m(data):\n\u001B[0;32m    309\u001B[0m \u001B[38;5;250m    \u001B[39m\u001B[38;5;124;03m\"\"\"Return the sample arithmetic mean of data.\u001B[39;00m\n\u001B[0;32m    310\u001B[0m \n\u001B[0;32m    311\u001B[0m \u001B[38;5;124;03m    >>> mean([1, 2, 3, 4, 4])\u001B[39;00m\n\u001B[1;32m   (...)\u001B[0m\n\u001B[0;32m    322\u001B[0m \u001B[38;5;124;03m    If ``data`` is empty, StatisticsError will be raised.\u001B[39;00m\n\u001B[0;32m    323\u001B[0m \u001B[38;5;124;03m    \"\"\"\u001B[39;00m\n\u001B[1;32m--> 324\u001B[0m     \u001B[38;5;28;01mif\u001B[39;00m \u001B[38;5;28;43miter\u001B[39;49m\u001B[43m(\u001B[49m\u001B[43mdata\u001B[49m\u001B[43m)\u001B[49m \u001B[38;5;129;01mis\u001B[39;00m data:\n\u001B[0;32m    325\u001B[0m         data \u001B[38;5;241m=\u001B[39m \u001B[38;5;28mlist\u001B[39m(data)\n\u001B[0;32m    326\u001B[0m     n \u001B[38;5;241m=\u001B[39m \u001B[38;5;28mlen\u001B[39m(data)\n",
      "\u001B[1;31mTypeError\u001B[0m: 'numpy.float32' object is not iterable"
     ]
    }
   ],
   "source": [
    "if flag_processed:\n",
    "\n",
    "    first_mz, _ = I.GetSpectrum(0)\n",
    "    len_first_mz = len(first_mz)\n",
    "    processed_collector = first_mz\n",
    "\n",
    "    for id in randomlist:\n",
    "        mz, _ = I.GetSpectrum(id)\n",
    "        # assumes that the instrument makes same amount of data points in each pixel\n",
    "        if len_first_mz == len(mz):\n",
    "            processed_collector = np.hstack((processed_collector,mz))\n",
    "        else:\n",
    "            print(id)\n",
    "            #raise ValueError(f\" Pixel {id} has a non-identical number of data points that reference.\")\n",
    "\n",
    "    print(np.shape(processed_collector))\n",
    "    processed_collector = processed_collector.T\n",
    "    dpoint_mean = tuple() # collector for mean mz value of each pseudo-bin\n",
    "    dpoint_spread = tuple() # collector of the standard variation within each pseudo-bin\n",
    "    \n",
    "    print(np.shape(processed_collector))\n",
    "    for row in processed_collector:\n",
    "        print(row)\n",
    "        dpoint_mean += (stat.mean(row),)\n",
    "        dpoint_spread += (stat.stdev(row),)\n",
    "\n",
    "    dpoint_mean = np.asarray(dpoint_mean)\n",
    "    dpoint_spread = np.asarray(dpoint_spread)\n",
    "    dbin_spread = np.diff(dpoint_mean) # calculation of inter-bin step size \n",
    "\n",
    "    fig = plt.figure(figsize=[7,5])\n",
    "    ax = plt.subplot(111)\n",
    "\n",
    "    ax.set_title('Comparison of aquisition-based binning')\n",
    "    ax.set_xlabel('mz of each pseudo-bin')\n",
    "    ax.set_ylabel('mz deviation')\n",
    "\n",
    "    ax.grid(visible=True, c='lightgray', ls=\"--\")\n",
    "\n",
    "    ax.plot(dpoint_mean, dpoint_spread, color='r',zorder=-1, \n",
    "            label=f\"standard deviation \\nwithin each pseudo-bin \\nmedian: {stat.median(dpoint_spread):.6f}\")\n",
    "\n",
    "    ax.plot(dpoint_mean[:-1], dbin_spread, color='g',zorder=-1, \n",
    "            label=f\"Stepsize between \\neach pseudo-bin \\nmedian: {stat.median(dbin_spread):.6f}\")\n",
    "    ax.legend()\n",
    "\n",
    "    ax.set_rasterization_zorder(0)\n",
    "    if pdf_generate:\n",
    "        pdf_pages.savefig(fig)\n",
    "        plt.close()\n",
    "    else:\n",
    "        plt.show()\n"
   ]
  },
  {
   "cell_type": "code",
   "execution_count": null,
   "metadata": {
    "pycharm": {
     "name": "#%%\n"
    }
   },
   "outputs": [],
   "source": []
  },
  {
   "cell_type": "code",
   "execution_count": 32,
   "metadata": {
    "pycharm": {
     "name": "#%%\n"
    },
    "scrolled": true
   },
   "outputs": [],
   "source": [
    "# Parametrisation for Accuracy and Bining\n",
    "cal = pd.read_csv(cal_filepath, sep=';', header=0)\n",
    "cal_masses = cal[\"Theoretical m/z\"].tolist()\n",
    "cal_names = cal[\"Name\"].tolist()\n",
    "# instancing the collection list: \n",
    "# list for each calibrant containing an array per calibrant[i] with mass[i][0] and intensity[i][1]\n",
    "accu_cal = []\n",
    "accu_list = []\n",
    "for i in range(len(cal_masses)):\n",
    "    accu_list.append(np.array([[],[]]))\n",
    "        \n",
    "# peak binning with overbinning to 0.00005 resolution (very accurate)\n",
    "dist = 0.025\n",
    "bins = int(2*dist/(5*10**-5))\n",
    "#TODO what tf is this? where do these parameters come from? are they necesarry?"
   ]
  },
  {
   "cell_type": "code",
   "execution_count": null,
   "metadata": {
    "pycharm": {
     "name": "#%%\n"
    },
    "scrolled": true
   },
   "outputs": [],
   "source": []
  },
  {
   "cell_type": "code",
   "execution_count": 33,
   "metadata": {
    "pycharm": {
     "name": "#%%\n"
    },
    "scrolled": true
   },
   "outputs": [],
   "source": [
    "# and looping over calibrants\n",
    "for i, calmass in enumerate(cal_masses):\n",
    "    # looping over sample\n",
    "    for ind in randomlist:\n",
    "        mass, intensity = I.GetSpectrum(ind)\n",
    "        # implement empty pixel flags\n",
    "        try:\n",
    "            #mindex needs to be inclusive\n",
    "            mindex = min(np.where(mass > (calmass-dist))[0])\n",
    "            mindex_flag = True\n",
    "        except:\n",
    "            mindex_flag = False\n",
    "        try: \n",
    "            #maxdex needs to be exclusive \n",
    "            maxdex = min(np.where(mass > (calmass+dist))[0])\n",
    "            maxdex_flag = True\n",
    "        except:\n",
    "            maxdex_flag = False\n",
    "\n",
    "        if maxdex_flag and mindex_flag:\n",
    "            # collecting of masses and intensities\n",
    "            adder = np.array((mass[mindex:maxdex],intensity[mindex:maxdex]))\n",
    "            accu_list[i] = np.concatenate((accu_list[i], adder), axis=1)\n",
    "    \n"
   ]
  },
  {
   "cell_type": "code",
   "execution_count": 34,
   "metadata": {
    "pycharm": {
     "name": "#%%\n"
    }
   },
   "outputs": [],
   "source": [
    "# OUTPUT IMAGE\n",
    "# mass accuracy plots\n",
    "\n",
    "nrowfig = len(cal_masses)//3\n",
    "if (len(cal_masses)%3) != 0:\n",
    "    nrowfig += 1\n",
    "    \n",
    "# on plotting calculation of most abundant mz feature\n",
    "# collection in accu_mab_list\n",
    "\n",
    "#collectors for mabs and valid entries\n",
    "accu_mab_list = []\n",
    "cal_mass_mask= []\n",
    "accu_center_list = []\n",
    "\n",
    "# extraction of most Abundant PEaks and theeir validity in mask for cal_masses\n",
    "for i in range(len(cal_masses)):\n",
    "    if len(accu_list[i][1]) > 0:\n",
    "        most_abundant_peak = accu_list[i][0][np.where(accu_list[i][1]==max(accu_list[i][1]))][0]    \n",
    "        accu_mab_list.append(most_abundant_peak)\n",
    "        cal_mass_mask.append(True)\n",
    "        center, _ = accu_list[i].mean(axis=1)\n",
    "        \n",
    "        accu_center_list.append(center)\n",
    "    else:\n",
    "        accu_mab_list.append(0) # mab is set to 0 for not found peaks to retain list shape\n",
    "        cal_mass_mask.append(False)\n",
    "        accu_center_list.append(0) # center is set to 0 for not found peaks\n",
    "\n",
    "\n",
    "\n",
    "\n",
    "for i in range(len(cal_masses)):   \n",
    "    fig = plt.figure(figsize=[7,5])\n",
    "    ax = plt.subplot(111)\n",
    "    ax.set_title(f'Spectrum of {cal_masses[i]} ({cal_names[i]})')\n",
    "    ax.set_xlabel('m/z')\n",
    "    ax.set_ylabel('Intensity')\n",
    "    ax.set_xlim(cal_masses[i]-0.025, cal_masses[i]+0.025)\n",
    "    ax.ticklabel_format(useOffset=False,)\n",
    "    ax.ticklabel_format(axis=\"y\",style='sci',scilimits=(0,0))\n",
    "    ax.scatter(accu_list[i][0], accu_list[i][1],s=4, zorder=-1)\n",
    "    ax.set_rasterization_zorder(0)\n",
    "    # check if peak is valid\n",
    "    if cal_mass_mask[i]:\n",
    "        most_abundant_peak = accu_mab_list[i]\n",
    "        ax.axvline(most_abundant_peak, color='green', ls=\"--\")\n",
    "        ax.axvline(cal_masses[i], c='r', ls=(0,(1,3)))\n",
    "        \n",
    "        # get data for \n",
    "        ax.axvline(accu_center_list[i], c='purple', ls=\"-.\")\n",
    "\n",
    "        \n",
    "    else:\n",
    "         ax.text(cal_masses[i], 0,'Peak \\n not found', \n",
    "                ha='center', fontsize=12)\n",
    "\n",
    "\n",
    "    if pdf_generate:\n",
    "        pdf_pages.savefig(fig)\n",
    "        plt.close()\n",
    "    else:\n",
    "        plt.show()\n"
   ]
  },
  {
   "cell_type": "code",
   "execution_count": null,
   "metadata": {
    "pycharm": {
     "name": "#%%\n"
    },
    "scrolled": true
   },
   "outputs": [],
   "source": []
  },
  {
   "cell_type": "code",
   "execution_count": 35,
   "metadata": {
    "pycharm": {
     "name": "#%%\n"
    },
    "scrolled": true
   },
   "outputs": [],
   "source": [
    "# calculate difference of most abundant peak to theoretical mass in ppm\n",
    "ppm_mds = []\n",
    "for o,t,m in zip(accu_mab_list,cal_masses,cal_mass_mask):\n",
    "    if m:\n",
    "        ppm_mds.append(np.abs((o-t)/t*10**6))\n",
    "\n",
    "labels = []\n",
    "accu_masses = []\n",
    "for t,l,m  in zip(cal_masses,cal_names,cal_mass_mask):\n",
    "    if m:\n",
    "        labels.append(l)\n",
    "        accu_masses.append(t)\n",
    "# make names\n",
    "#from names list take len\n",
    "y_pos = np.arange(len(labels))\n",
    "\n",
    "\n",
    "def addlabels(x,y):\n",
    "    for i in range(len(x)):\n",
    "        ax.text(i, y[i]+0.5, np.round(y[i],5), \n",
    "                ha='center', fontsize=8)\n",
    "\n",
    "fig = plt.figure(figsize=[7,5])\n",
    "ax = plt.subplot(111)\n",
    "\n",
    "ax.set_title('Absolute mass accuracy of calibrants (most abundant mass vs theoretical)')\n",
    "ax.set_xlabel('Calibrant')\n",
    "ax.set_ylabel('Mass accuracy in ppm')\n",
    "ax.set_xticks(y_pos)\n",
    "ax.set_xticklabels(labels, rotation=45, fontsize=8)\n",
    "\n",
    "ax.bar(y_pos, ppm_mds, color=\"green\")\n",
    "\n",
    "# making the bar chart on the data\n",
    "addlabels(y_pos, ppm_mds)\n",
    "     \n",
    "\n",
    "if pdf_generate:\n",
    "    pdf_pages.savefig(fig)\n",
    "    plt.close()\n",
    "else:\n",
    "    plt.show()"
   ]
  },
  {
   "cell_type": "code",
   "execution_count": 36,
   "metadata": {
    "pycharm": {
     "name": "#%%\n"
    },
    "scrolled": true
   },
   "outputs": [],
   "source": [
    "# calculate difference of most abundant peak to theoretical mass in ppm\n",
    "ppm_cen = []\n",
    "for o,t,m in zip(accu_center_list,cal_masses,cal_mass_mask):\n",
    "    if m:\n",
    "        ppm_cen.append(np.abs((o-t)/t*10**6))\n",
    "        \n",
    "labels = []\n",
    "accu_masses = []\n",
    "for t,l,m  in zip(cal_masses,cal[\"Name\"].tolist(),cal_mass_mask):\n",
    "    if m:\n",
    "        labels.append(l)\n",
    "        accu_masses.append(t)\n",
    "# make names\n",
    "#from names list take len\n",
    "y_pos = np.arange(len(labels))\n",
    "\n",
    "\n",
    "fig = plt.figure(figsize=[7,5])\n",
    "ax = plt.subplot(111)\n",
    "\n",
    "ax.set_title('Absolute mass accuracy of calibrants (centered peak vs theoretical)')\n",
    "ax.set_xlabel('Calibrant')\n",
    "ax.set_ylabel('Mass accuracy in ppm')\n",
    "ax.set_xticks(y_pos)\n",
    "ax.set_xticklabels(labels, rotation=45, fontsize=8)\n",
    "\n",
    "ax.bar(y_pos, ppm_cen,  color=\"purple\")\n",
    "\n",
    "# making the bar chart on the data\n",
    "addlabels(y_pos, ppm_cen)\n",
    "     \n",
    "if pdf_generate:\n",
    "    pdf_pages.savefig(fig)\n",
    "    plt.close()\n",
    "else:\n",
    "    plt.show()"
   ]
  },
  {
   "cell_type": "code",
   "execution_count": 37,
   "metadata": {
    "pycharm": {
     "name": "#%%\n"
    },
    "scrolled": true
   },
   "outputs": [],
   "source": [
    "# for heapmap of mass accuracy per spectra: \n",
    "\n",
    "\n",
    "# loop over each pixel to get ind, mass, inten\n",
    "# loop over valid masses to get theoretical mass\n",
    "# find nearest mz feature around theoretical mass\n",
    "# collect it per pixel in df: rows (dim 0): pixel index, cols: valid masses, fields: nearest\n",
    "# then calculate ppm values per column\n",
    "# and make heatmap with accuracy\n",
    "\n",
    "# f: rows (dim 0): pixel index, cols: valid masses, fields: nearest\n",
    "accuracies_ar = np.zeros((I.GetNumberOfSpectra(),len(accu_masses)))\n",
    "for ind, mass, inten in I.SpectrumIterator(): # loop to run over full imzML dataset\n",
    "    # get nearest elements TODO: change to nearest local maxima\n",
    "    tm = [find_nearest(mass, calmass) for calmass in accu_masses]    \n",
    "    accuracies_ar[ind] = tm\n",
    "# transpose to match  ppm calcs form\n",
    "accuracies_ar = accuracies_ar.T\n",
    "\n"
   ]
  },
  {
   "cell_type": "code",
   "execution_count": null,
   "metadata": {
    "pycharm": {
     "name": "#%%\n"
    },
    "scrolled": true
   },
   "outputs": [],
   "source": []
  },
  {
   "cell_type": "code",
   "execution_count": 38,
   "metadata": {
    "pycharm": {
     "name": "#%%\n"
    },
    "scrolled": true
   },
   "outputs": [],
   "source": [
    "for i, mass in enumerate(accu_masses):\n",
    "    accu_ppm_ar = [(o-mass)/mass*10**6 for o in accuracies_ar[i]]\n",
    "    \n",
    "    \n",
    "    a_image = mask_bad_image(index_nr,accu_ppm_ar,I.GetIndexArray()[0])\n",
    "    # plot\n",
    "\n",
    "    \n",
    "    fig = plt.figure(figsize=[7,5])\n",
    "    ax = plt.subplot(111)\n",
    "    ax.set_title(f'Mass Accuracy of {mass}, {labels[i]}')\n",
    "    ax.set_xlabel('x')\n",
    "    ax.set_ylabel('y')\n",
    "    ax.set_xlim(x_min, x_max)\n",
    "    ax.set_ylim(y_min, y_max)\n",
    "    im = ax.imshow(a_image, cmap=my_cw, vmin=-20, vmax=20)\n",
    "    fig.colorbar(im, extend='both',label=\"ppm\")\n",
    "    \n",
    "    if pdf_generate:\n",
    "        pdf_pages.savefig(fig)\n",
    "        plt.close()\n",
    "    else:\n",
    "        plt.show()"
   ]
  },
  {
   "cell_type": "code",
   "execution_count": null,
   "metadata": {
    "pycharm": {
     "name": "#%%\n"
    }
   },
   "outputs": [],
   "source": []
  },
  {
   "cell_type": "code",
   "execution_count": null,
   "metadata": {
    "pycharm": {
     "name": "#%%\n"
    }
   },
   "outputs": [],
   "source": []
  },
  {
   "cell_type": "code",
   "execution_count": 39,
   "metadata": {
    "pycharm": {
     "name": "#%%\n"
    },
    "scrolled": true
   },
   "outputs": [],
   "source": [
    "# range of binned mz values\n",
    "mz_min = min(I.GetXAxis())\n",
    "mz_max = max(I.GetXAxis())\n",
    "\n",
    "# binned intensity range\n",
    "int_min = min(I.GetMeanSpectrum())\n",
    "int_max = max(I.GetMeanSpectrum())\n",
    "\n",
    "if not pdf_generate:\n",
    "    print('AVERAGE SPECTRUM PROPERTIES \\n ')\n",
    "\n",
    "    print('mz range:', mz_min.round(5), \" - \", mz_max.round(5))\n",
    "    print(\"Spacing:\", I.GetSpacing())\n",
    "    print(\"m/z Bins:\", I.GetXAxisDepth())\n",
    "    print('Intensity range: ',int_min.round(0), \" - \", int_max.round(0))\n",
    "\n"
   ]
  },
  {
   "cell_type": "code",
   "execution_count": 40,
   "metadata": {
    "pycharm": {
     "name": "#%%\n"
    },
    "scrolled": true
   },
   "outputs": [],
   "source": [
    "if flag_centroid:\n",
    "    # plot the autobinned mean spectra\n",
    "    fig = plt.figure(figsize=[10,6])\n",
    "    ax = plt.subplot(111)\n",
    "    ax.set_title('Averaged Centroid Mass Spectrum')\n",
    "    ax.set_xlabel('m/z')\n",
    "    ax.set_ylabel('Intensity')\n",
    "    ax.set_xlim(mz_min.round(0),mz_max.round(0))\n",
    "    ax.vlines(I.GetXAxis(), 0, I.GetMeanSpectrum(),linewidth = 0.8)\n",
    "    \n",
    "    if pdf_generate:\n",
    "        pdf_pages.savefig(fig)\n",
    "        plt.close()\n",
    "    else:\n",
    "        plt.show()\n",
    "        \n",
    "if flag_profile:\n",
    "    # plot the autobinned mean spectra\n",
    "    fig = plt.figure(figsize=[10,6])\n",
    "    ax = plt.subplot(111)\n",
    "    ax.set_title('Averaged Profile Mass Spectrum')\n",
    "    ax.set_xlabel('m/z')\n",
    "    ax.set_ylabel('Intensity')\n",
    "    ax.set_xlim(mz_min.round(0),mz_max.round(0))\n",
    "    ax.plot(I.GetXAxis(), I.GetMeanSpectrum(),linewidth = 0.8)\n",
    "    \n",
    "    if pdf_generate:\n",
    "        pdf_pages.savefig(fig)\n",
    "        plt.close()\n",
    "    else:\n",
    "        plt.show()"
   ]
  },
  {
   "cell_type": "code",
   "execution_count": 41,
   "metadata": {
    "pycharm": {
     "name": "#%%\n"
    }
   },
   "outputs": [
    {
     "data": {
      "text/plain": [
       "0.0074691772"
      ]
     },
     "execution_count": 41,
     "metadata": {},
     "output_type": "execute_result"
    },
    {
     "data": {
      "image/png": "[encoded data removed]",
      "text/plain": [
       "<Figure size 1000x600 with 1 Axes>"
      ]
     },
     "metadata": {},
     "output_type": "display_data"
    }
   ],
   "source": [
    "fig = plt.figure(figsize=[10,6])\n",
    "ax = plt.subplot(111)\n",
    "ax.set_title('Averaged Centroid Mass Spectrum')\n",
    "ax.set_xlabel('m/z')\n",
    "ax.set_ylabel('Intensity')\n",
    "ax.set_xlim(mz_min.round(0),mz_max.round(0))\n",
    "ax.vlines(I.GetSpectrum(200)[0], 0, I.GetSpectrum(200)[1])\n",
    "a = I.GetSpectrum(200)[0]\n",
    "min(np.diff(a))"
   ]
  },
  {
   "cell_type": "code",
   "execution_count": 42,
   "metadata": {
    "pycharm": {
     "name": "#%%\n"
    },
    "scrolled": true
   },
   "outputs": [
    {
     "name": "stdout",
     "output_type": "stream",
     "text": [
      "\n",
      " FILE PROPERTIES \n",
      "\n",
      "Spectral Type:  ProcessedCentroid\n",
      "\n",
      " IMAGE PROPERTIES \n",
      "\n",
      "Numeric shape of Image (x, y, z):  [892 280   1]\n",
      "Number of recorded Pixels:  1418\n",
      "Number of unrecorded Pixels:  248342\n",
      "Recorded x-range:  820  -  891\n",
      "Recorded y-range:  250  -  279\n",
      "Nr of connected components found:  1\n",
      "\n",
      " SPECTAL PROPERTIES \n",
      " \n",
      "Number of individual mz features:  211726\n",
      "\n",
      "Mean TIC ± sd:  811  ±  316\n",
      "Median TIC ± MAD:  719  ±  68\n",
      "\n",
      "Mean number of mz features per spectrum ± sd:  149  ±  163\n",
      "Median number of mz features per spectrum ± MAD:  103  ±  25\n",
      "\n",
      "Range of median intensities per pixel:  1.243100881576538  -  2.7631612\n",
      "Range of Maximal Intensity per pixel:  220.25586  -  317.1497\n",
      "Range of Maximal Intensity per pixel:  1.0000008  -  1.1017429\n",
      "Range of most abundant mz per pixel:  96.97338  -  193.07864\n",
      "\n",
      " AVERAGE SPECTRUM PROPERTIES \n",
      " \n",
      "mz range: 50.24128  -  999.69994\n",
      "Spacing: [0.05 0.05 0.01]\n",
      "m/z Bins: 2000\n",
      "Intensity range:  1.0  -  131.0\n",
      "Calibrant found: 6 / 9\n"
     ]
    }
   ],
   "source": [
    "# OUTPUT FIELD\n",
    "# Retrieve metadata and file properties\n",
    "print(\"\\n FILE PROPERTIES \\n\")\n",
    "print(\"Spectral Type: \", I.GetSpectrumType())\n",
    "#print(I.GetMetaData())\n",
    "#TODO use metadata parser by M2aia\n",
    "\n",
    "# Retrieve Image-related data\n",
    "print('\\n IMAGE PROPERTIES \\n')\n",
    "print('Numeric shape of Image (x, y, z): ', I.GetShape())\n",
    "print('Number of recorded Pixels: ', I.GetNumberOfSpectra())\n",
    "print(\"Number of unrecorded Pixels: \", np.abs(np.product(I.GetShape()) - I.GetNumberOfSpectra()))\n",
    "\n",
    "print(\"Recorded x-range: \", x_min, \" - \", x_max)\n",
    "print(\"Recorded y-range: \", y_min, \" - \", y_max)\n",
    "\n",
    "print(\"Nr of connected components found: \", label_nr)\n",
    "\n",
    "# OUTPUT FIELD\n",
    "# gives Information on the spectral properties\n",
    "print('\\n SPECTAL PROPERTIES \\n ')\n",
    "\n",
    "print('Number of individual mz features: ', np.sum(peak_nr))\n",
    "print('')\n",
    "print(\"Mean TIC ± sd: \", int(stat.mean(tic_nr)), \" ± \", int(stat.stdev(tic_nr)))\n",
    "print(\"Median TIC ± MAD: \", int(stat.median(tic_nr)), \" ± \", int(SST.median_abs_deviation(tic_nr)))\n",
    "print('')\n",
    "print(\"Mean number of mz features per spectrum ± sd: \", int(stat.mean(peak_nr)), \" ± \", int(stat.stdev(peak_nr)))\n",
    "print(\"Median number of mz features per spectrum ± MAD: \",\n",
    "      int(stat.median(peak_nr)), \" ± \", int(SST.median_abs_deviation(peak_nr)))\n",
    "print('')\n",
    "print(\"Range of median intensities per pixel: \", min(median_nr), \" - \", max(median_nr))\n",
    "print('Range of Maximal Intensity per pixel: ', min(max_int_nr), \" - \", max(max_int_nr))\n",
    "print('Range of Maximal Intensity per pixel: ', min(min_int_nr), \" - \", max(min_int_nr))\n",
    "print('Range of most abundant mz per pixel: ', min(max_abun_nr), \" - \", max(max_abun_nr))\n",
    "\n",
    "    \n",
    "print('\\n AVERAGE SPECTRUM PROPERTIES \\n ')\n",
    "print('mz range:', mz_min.round(5), \" - \", mz_max.round(5))\n",
    "print(\"Spacing:\", I.GetSpacing())\n",
    "print(\"m/z Bins:\", I.GetXAxisDepth())\n",
    "print('Intensity range: ',int_min.round(0), \" - \", int_max.round(0))\n",
    "print(f\"Calibrant found: {cal_mass_mask.count(True)} / {len(cal_mass_mask)}\")"
   ]
  },
  {
   "cell_type": "code",
   "execution_count": 43,
   "metadata": {
    "pycharm": {
     "name": "#%%\n"
    }
   },
   "outputs": [
    {
     "data": {
      "image/png": "[encoded data removed]",
      "text/plain": [
       "<Figure size 1000x1000 with 1 Axes>"
      ]
     },
     "metadata": {},
     "output_type": "display_data"
    }
   ],
   "source": [
    "# Define the text data as a list of lists for the table\n",
    "\n",
    "table_data = [\n",
    "    [\"Spectral Type:\", str(I.GetSpectrumType())],\n",
    "    [\"Numeric shape of Image (x, y, z):\", str(I.GetShape())],\n",
    "    [\"Number of recorded Pixels:\", str(I.GetNumberOfSpectra())],\n",
    "    [\"Number of unrecorded Pixels:\", str(np.abs(np.product(I.GetShape()) - I.GetNumberOfSpectra()))],\n",
    "    [\"Recorded x-range:\", str((x_min, x_max))],\n",
    "    [\"Recorded y-range:\", str((y_min, y_max))],\n",
    "    [\"Nr of connected components found:\", str(label_nr)],\n",
    "    [\"Number of individual mz features:\", str(np.sum(peak_nr))],\n",
    "    [\"Mean TIC ± sd:\", str(f\"{int(stat.mean(tic_nr))} ± {int(stat.stdev(tic_nr))}\")],\n",
    "    [\"Median TIC ± MAD:\", str(f\"{int(stat.median(tic_nr))} ± {int(SST.median_abs_deviation(tic_nr))}\")],\n",
    "    [\"Mean number of mz features per spectrum ± sd:\", str(f\"{int(stat.mean(peak_nr))} ± {int(stat.stdev(peak_nr))}\")],\n",
    "    [\"Median number of mz features per spectrum ± MAD:\", str(f\"{int(stat.median(peak_nr))} ± {int(SST.median_abs_deviation(peak_nr))}\")],\n",
    "    [\"Range of median intensities per pixel:\", str((min(median_nr), max(median_nr)))],\n",
    "    [\"Range of Maximal Intensity per pixel:\", str((min(max_int_nr), max(max_int_nr)))],\n",
    "    [\"Range of most abundant mz per pixel:\", str((min(min_int_nr), max(min_int_nr)))],\n",
    "    [\"mz range:\", str((mz_min.round(5), mz_max.round(5)))],\n",
    "    [\"Spacing:\", str(I.GetSpacing())],\n",
    "    [\"m/z Bins:\", str(I.GetXAxisDepth())],\n",
    "    [\"Intensity range:\", str((int_min.round(0), int_max.round(0)))],\n",
    "]\n",
    "\n",
    "\n",
    "# Create a figure and add the table\n",
    "fig, ax = plt.subplots(figsize=(10, 10))  # Letter size in inches\n",
    "ax.axis(\"off\")  # Turn off axis\n",
    "table = ax.table(cellText=table_data,\n",
    "                 colLabels=[\"Property\", \"Values\"],\n",
    "                 loc=\"center\", cellLoc=\"left\")\n",
    "\n",
    "# Style the table\n",
    "table.auto_set_font_size(False)\n",
    "table.set_fontsize(14)\n",
    "table.scale(1.2, 1.2)  # Adjust table scale for better layout\n",
    " # weird error, where some text is not getting passed\n",
    "    "
   ]
  },
  {
   "cell_type": "code",
   "execution_count": 44,
   "metadata": {
    "pycharm": {
     "name": "#%%\n"
    },
    "scrolled": true
   },
   "outputs": [],
   "source": [
    "\n",
    "if pdf_generate:\n",
    "    pdf_pages.savefig(fig, bbox_inches=\"tight\")\n",
    "    plt.close()\n",
    "    pdf_pages.close()\n",
    "    \n",
    "## export seam for jupyter ----------------------------------------------------------"
   ]
  },
  {
   "cell_type": "code",
   "execution_count": null,
   "metadata": {
    "pycharm": {
     "name": "#%%\n"
    },
    "scrolled": true
   },
   "outputs": [],
   "source": []
  },
  {
   "cell_type": "code",
   "execution_count": null,
   "metadata": {
    "pycharm": {
     "name": "#%%\n"
    },
    "scrolled": true
   },
   "outputs": [],
   "source": []
  },
  {
   "cell_type": "code",
   "execution_count": null,
   "metadata": {
    "pycharm": {
     "name": "#%%\n"
    },
    "scrolled": true
   },
   "outputs": [],
   "source": []
  },
  {
   "cell_type": "code",
   "execution_count": null,
   "metadata": {
    "pycharm": {
     "name": "#%%\n"
    },
    "scrolled": true
   },
   "outputs": [],
   "source": []
  }
 ],
 "metadata": {
  "kernelspec": {
   "display_name": "Python 3 (ipykernel)",
   "language": "python",
   "name": "python3"
  },
  "language_info": {
   "codemirror_mode": {
    "name": "ipython",
    "version": 3
   },
   "file_extension": ".py",
   "mimetype": "text/x-python",
   "name": "python",
   "nbconvert_exporter": "python",
   "pygments_lexer": "ipython3",
   "version": "3.10.12"
  },
  "vscode": {
   "interpreter": {
    "hash": "c344282a256f792896cae368e9affe3981e00783ef2d7a1acc3e2337524a31ea"
   }
  }
 },
 "nbformat": 4,
 "nbformat_minor": 4
}